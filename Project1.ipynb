{
 "cells": [
  {
   "cell_type": "code",
   "execution_count": 1,
   "metadata": {},
   "outputs": [],
   "source": [
    "# importing required libraries\n",
    "import pandas as pd\n",
    "import csv\n",
    "import matplotlib.pyplot as plt\n",
    "import urllib.request\n",
    "import matplotlib \n",
    "import io\n",
    "import requests\n",
    "\n",
    "\n",
    "%matplotlib inline\n",
    "\n",
    "\n"
   ]
  },
  {
   "cell_type": "code",
   "execution_count": 7,
   "metadata": {},
   "outputs": [
    {
     "data": {
      "text/html": [
       "<div>\n",
       "<style scoped>\n",
       "    .dataframe tbody tr th:only-of-type {\n",
       "        vertical-align: middle;\n",
       "    }\n",
       "\n",
       "    .dataframe tbody tr th {\n",
       "        vertical-align: top;\n",
       "    }\n",
       "\n",
       "    .dataframe thead th {\n",
       "        text-align: right;\n",
       "    }\n",
       "</style>\n",
       "<table border=\"1\" class=\"dataframe\">\n",
       "  <thead>\n",
       "    <tr style=\"text-align: right;\">\n",
       "      <th></th>\n",
       "      <th>Airlines</th>\n",
       "      <th>City</th>\n",
       "      <th>On time</th>\n",
       "      <th>Delayed</th>\n",
       "    </tr>\n",
       "  </thead>\n",
       "  <tbody>\n",
       "    <tr>\n",
       "      <th>0</th>\n",
       "      <td>Alaska</td>\n",
       "      <td>Los Angeles</td>\n",
       "      <td>497</td>\n",
       "      <td>62</td>\n",
       "    </tr>\n",
       "    <tr>\n",
       "      <th>1</th>\n",
       "      <td>Alaska</td>\n",
       "      <td>Phoenix</td>\n",
       "      <td>221</td>\n",
       "      <td>12</td>\n",
       "    </tr>\n",
       "    <tr>\n",
       "      <th>2</th>\n",
       "      <td>Alaska</td>\n",
       "      <td>San Diego</td>\n",
       "      <td>212</td>\n",
       "      <td>20</td>\n",
       "    </tr>\n",
       "    <tr>\n",
       "      <th>3</th>\n",
       "      <td>Alaska</td>\n",
       "      <td>San Francisco</td>\n",
       "      <td>503</td>\n",
       "      <td>102</td>\n",
       "    </tr>\n",
       "    <tr>\n",
       "      <th>4</th>\n",
       "      <td>Alaska</td>\n",
       "      <td>Seattle</td>\n",
       "      <td>1841</td>\n",
       "      <td>305</td>\n",
       "    </tr>\n",
       "    <tr>\n",
       "      <th>5</th>\n",
       "      <td>AM WEST</td>\n",
       "      <td>Los Angeles</td>\n",
       "      <td>694</td>\n",
       "      <td>117</td>\n",
       "    </tr>\n",
       "    <tr>\n",
       "      <th>6</th>\n",
       "      <td>AM WEST</td>\n",
       "      <td>Phoenix</td>\n",
       "      <td>4840</td>\n",
       "      <td>415</td>\n",
       "    </tr>\n",
       "    <tr>\n",
       "      <th>7</th>\n",
       "      <td>AM WEST</td>\n",
       "      <td>San Diego</td>\n",
       "      <td>383</td>\n",
       "      <td>65</td>\n",
       "    </tr>\n",
       "    <tr>\n",
       "      <th>8</th>\n",
       "      <td>AM WEST</td>\n",
       "      <td>San Francisco</td>\n",
       "      <td>320</td>\n",
       "      <td>129</td>\n",
       "    </tr>\n",
       "    <tr>\n",
       "      <th>9</th>\n",
       "      <td>AM WEST</td>\n",
       "      <td>Seattle</td>\n",
       "      <td>201</td>\n",
       "      <td>61</td>\n",
       "    </tr>\n",
       "  </tbody>\n",
       "</table>\n",
       "</div>"
      ],
      "text/plain": [
       "  Airlines           City  On time  Delayed\n",
       "0   Alaska    Los Angeles      497       62\n",
       "1   Alaska        Phoenix      221       12\n",
       "2   Alaska      San Diego      212       20\n",
       "3   Alaska  San Francisco      503      102\n",
       "4   Alaska        Seattle     1841      305\n",
       "5  AM WEST    Los Angeles      694      117\n",
       "6  AM WEST        Phoenix     4840      415\n",
       "7  AM WEST      San Diego      383       65\n",
       "8  AM WEST  San Francisco      320      129\n",
       "9  AM WEST        Seattle      201       61"
      ]
     },
     "execution_count": 7,
     "metadata": {},
     "output_type": "execute_result"
    }
   ],
   "source": [
    "import numpy as np\n",
    "import pandas as pd\n",
    "airline_data = pd.read_csv('airlines.csv')\n",
    "df"
   ]
  },
  {
   "cell_type": "code",
   "execution_count": 8,
   "metadata": {},
   "outputs": [
    {
     "data": {
      "text/plain": [
       "0    11.091234\n",
       "1     5.150215\n",
       "2     8.620690\n",
       "3    16.859504\n",
       "4    14.212488\n",
       "5    14.426634\n",
       "6     7.897241\n",
       "7    14.508929\n",
       "8    28.730512\n",
       "9    23.282443\n",
       "Name: Alaska_Percent_Delay, dtype: float64"
      ]
     },
     "execution_count": 8,
     "metadata": {},
     "output_type": "execute_result"
    }
   ],
   "source": [
    "airline_data['Total_Alaska_Flights'] = airline_data['On time'] + airline_data['Delayed']\n",
    "\n",
    "airline_data['Alaska_Percent_Delay'] = (airline_data['Delayed'] / airline_data['Total_Alaska_Flights']) * 100\n",
    "\n",
    "airline_data['Alaska_Percent_Delay']"
   ]
  },
  {
   "cell_type": "code",
   "execution_count": 12,
   "metadata": {},
   "outputs": [
    {
     "data": {
      "text/html": [
       "<div>\n",
       "<style scoped>\n",
       "    .dataframe tbody tr th:only-of-type {\n",
       "        vertical-align: middle;\n",
       "    }\n",
       "\n",
       "    .dataframe tbody tr th {\n",
       "        vertical-align: top;\n",
       "    }\n",
       "\n",
       "    .dataframe thead th {\n",
       "        text-align: right;\n",
       "    }\n",
       "</style>\n",
       "<table border=\"1\" class=\"dataframe\">\n",
       "  <thead>\n",
       "    <tr style=\"text-align: right;\">\n",
       "      <th></th>\n",
       "      <th>Airlines</th>\n",
       "      <th>City</th>\n",
       "      <th>On time</th>\n",
       "      <th>Delayed</th>\n",
       "      <th>Total_Alaska_Flights</th>\n",
       "      <th>Alaska_Percent_Delay</th>\n",
       "    </tr>\n",
       "  </thead>\n",
       "  <tbody>\n",
       "    <tr>\n",
       "      <th>0</th>\n",
       "      <td>Alaska</td>\n",
       "      <td>Los Angeles</td>\n",
       "      <td>497</td>\n",
       "      <td>62</td>\n",
       "      <td>559</td>\n",
       "      <td>11.091234</td>\n",
       "    </tr>\n",
       "    <tr>\n",
       "      <th>1</th>\n",
       "      <td>Alaska</td>\n",
       "      <td>Phoenix</td>\n",
       "      <td>221</td>\n",
       "      <td>12</td>\n",
       "      <td>233</td>\n",
       "      <td>5.150215</td>\n",
       "    </tr>\n",
       "    <tr>\n",
       "      <th>2</th>\n",
       "      <td>Alaska</td>\n",
       "      <td>San Diego</td>\n",
       "      <td>212</td>\n",
       "      <td>20</td>\n",
       "      <td>232</td>\n",
       "      <td>8.620690</td>\n",
       "    </tr>\n",
       "    <tr>\n",
       "      <th>3</th>\n",
       "      <td>Alaska</td>\n",
       "      <td>San Francisco</td>\n",
       "      <td>503</td>\n",
       "      <td>102</td>\n",
       "      <td>605</td>\n",
       "      <td>16.859504</td>\n",
       "    </tr>\n",
       "    <tr>\n",
       "      <th>4</th>\n",
       "      <td>Alaska</td>\n",
       "      <td>Seattle</td>\n",
       "      <td>1841</td>\n",
       "      <td>305</td>\n",
       "      <td>2146</td>\n",
       "      <td>14.212488</td>\n",
       "    </tr>\n",
       "  </tbody>\n",
       "</table>\n",
       "</div>"
      ],
      "text/plain": [
       "  Airlines           City  On time  Delayed  Total_Alaska_Flights  \\\n",
       "0   Alaska    Los Angeles      497       62                   559   \n",
       "1   Alaska        Phoenix      221       12                   233   \n",
       "2   Alaska      San Diego      212       20                   232   \n",
       "3   Alaska  San Francisco      503      102                   605   \n",
       "4   Alaska        Seattle     1841      305                  2146   \n",
       "\n",
       "   Alaska_Percent_Delay  \n",
       "0             11.091234  \n",
       "1              5.150215  \n",
       "2              8.620690  \n",
       "3             16.859504  \n",
       "4             14.212488  "
      ]
     },
     "execution_count": 12,
     "metadata": {},
     "output_type": "execute_result"
    },
    {
     "data": {
      "image/png": "[encoded data removed]",
      "text/plain": [
       "<Figure size 432x288 with 1 Axes>"
      ]
     },
     "metadata": {
      "needs_background": "light"
     },
     "output_type": "display_data"
    }
   ],
   "source": [
    "Air= airline_data['Airlines'] == 'Alaska'\n",
    "airline_data[Air]['Delayed'].plot.bar()\n",
    "\n",
    "plt.suptitle('Dealyed Chart of Alaska Airlines')\n",
    "plt.xlabel('Cities')\n",
    "airline_data[Air]\n",
    "\n"
   ]
  },
  {
   "cell_type": "code",
   "execution_count": 13,
   "metadata": {},
   "outputs": [
    {
     "data": {
      "text/plain": [
       "<matplotlib.axes._subplots.AxesSubplot at 0x7f9df864fa90>"
      ]
     },
     "execution_count": 13,
     "metadata": {},
     "output_type": "execute_result"
    },
    {
     "data": {
      "image/png": "[encoded data removed]",
      "text/plain": [
       "<Figure size 432x288 with 1 Axes>"
      ]
     },
     "metadata": {
      "needs_background": "light"
     },
     "output_type": "display_data"
    }
   ],
   "source": [
    "# Looking for dealyed only                             \n",
    "DELAYED = airline_data.sort_values(['Delayed'])\n",
    "maxdelay = airline_data['Delayed'].max()\n",
    "airline_data['Airlines']\n",
    "airline_data['Delayed'].plot()\n",
    "delaytrue = airline_data['Delayed']==maxdelay\n",
    "row = airline_data[delaytrue]\n",
    "\n",
    "# Airlines\n",
    "Airlines = airline_data['Airlines'] == 'Alaska'\n",
    "airline_data[Airlines]['Delayed'].plot()\n",
    "\n",
    "Airlines = airline_data['Airlines'] == 'AM WEST'\n",
    "airline_data[Airlines]['Delayed'].plot()"
   ]
  },
  {
   "cell_type": "code",
   "execution_count": 14,
   "metadata": {},
   "outputs": [
    {
     "data": {
      "text/html": [
       "<div>\n",
       "<style scoped>\n",
       "    .dataframe tbody tr th:only-of-type {\n",
       "        vertical-align: middle;\n",
       "    }\n",
       "\n",
       "    .dataframe tbody tr th {\n",
       "        vertical-align: top;\n",
       "    }\n",
       "\n",
       "    .dataframe thead th {\n",
       "        text-align: right;\n",
       "    }\n",
       "</style>\n",
       "<table border=\"1\" class=\"dataframe\">\n",
       "  <thead>\n",
       "    <tr style=\"text-align: right;\">\n",
       "      <th></th>\n",
       "      <th>Airlines</th>\n",
       "      <th>City</th>\n",
       "      <th>On time</th>\n",
       "      <th>Delayed</th>\n",
       "      <th>Total_Alaska_Flights</th>\n",
       "      <th>Alaska_Percent_Delay</th>\n",
       "    </tr>\n",
       "  </thead>\n",
       "  <tbody>\n",
       "    <tr>\n",
       "      <th>5</th>\n",
       "      <td>AM WEST</td>\n",
       "      <td>Los Angeles</td>\n",
       "      <td>694</td>\n",
       "      <td>117</td>\n",
       "      <td>811</td>\n",
       "      <td>14.426634</td>\n",
       "    </tr>\n",
       "    <tr>\n",
       "      <th>6</th>\n",
       "      <td>AM WEST</td>\n",
       "      <td>Phoenix</td>\n",
       "      <td>4840</td>\n",
       "      <td>415</td>\n",
       "      <td>5255</td>\n",
       "      <td>7.897241</td>\n",
       "    </tr>\n",
       "    <tr>\n",
       "      <th>7</th>\n",
       "      <td>AM WEST</td>\n",
       "      <td>San Diego</td>\n",
       "      <td>383</td>\n",
       "      <td>65</td>\n",
       "      <td>448</td>\n",
       "      <td>14.508929</td>\n",
       "    </tr>\n",
       "    <tr>\n",
       "      <th>8</th>\n",
       "      <td>AM WEST</td>\n",
       "      <td>San Francisco</td>\n",
       "      <td>320</td>\n",
       "      <td>129</td>\n",
       "      <td>449</td>\n",
       "      <td>28.730512</td>\n",
       "    </tr>\n",
       "    <tr>\n",
       "      <th>9</th>\n",
       "      <td>AM WEST</td>\n",
       "      <td>Seattle</td>\n",
       "      <td>201</td>\n",
       "      <td>61</td>\n",
       "      <td>262</td>\n",
       "      <td>23.282443</td>\n",
       "    </tr>\n",
       "  </tbody>\n",
       "</table>\n",
       "</div>"
      ],
      "text/plain": [
       "  Airlines           City  On time  Delayed  Total_Alaska_Flights  \\\n",
       "5  AM WEST    Los Angeles      694      117                   811   \n",
       "6  AM WEST        Phoenix     4840      415                  5255   \n",
       "7  AM WEST      San Diego      383       65                   448   \n",
       "8  AM WEST  San Francisco      320      129                   449   \n",
       "9  AM WEST        Seattle      201       61                   262   \n",
       "\n",
       "   Alaska_Percent_Delay  \n",
       "5             14.426634  \n",
       "6              7.897241  \n",
       "7             14.508929  \n",
       "8             28.730512  \n",
       "9             23.282443  "
      ]
     },
     "execution_count": 14,
     "metadata": {},
     "output_type": "execute_result"
    },
    {
     "data": {
      "image/png": "[encoded data removed]",
      "text/plain": [
       "<Figure size 432x288 with 1 Axes>"
      ]
     },
     "metadata": {
      "needs_background": "light"
     },
     "output_type": "display_data"
    }
   ],
   "source": [
    "Air = airline_data['Airlines'] == 'AM WEST'\n",
    "airline_data[Air]['Delayed'].plot.bar()\n",
    "plt.suptitle('Dealyed Chart of AM West Airlines')\n",
    "plt.xlabel('Cities')\n",
    "\n",
    "airline_data[Air]"
   ]
  },
  {
   "cell_type": "code",
   "execution_count": null,
   "metadata": {},
   "outputs": [],
   "source": []
  }
 ],
 "metadata": {
  "kernelspec": {
   "display_name": "Python 3",
   "language": "python",
   "name": "python3"
  },
  "language_info": {
   "codemirror_mode": {
    "name": "ipython",
    "version": 3
   },
   "file_extension": ".py",
   "mimetype": "text/x-python",
   "name": "python",
   "nbconvert_exporter": "python",
   "pygments_lexer": "ipython3",
   "version": "3.8.3"
  }
 },
 "nbformat": 4,
 "nbformat_minor": 4
}
